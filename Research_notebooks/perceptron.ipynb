{
 "cells": [
  {
   "cell_type": "code",
   "execution_count": 2,
   "id": "1b43e769",
   "metadata": {},
   "outputs": [],
   "source": [
    "# !pip install pandas"
   ]
  },
  {
   "cell_type": "code",
   "execution_count": 4,
   "id": "2be4479a",
   "metadata": {},
   "outputs": [
    {
     "ename": "SyntaxError",
     "evalue": "unexpected EOF while parsing (2112068825.py, line 14)",
     "output_type": "error",
     "traceback": [
      "\u001b[1;36m  File \u001b[1;32m\"C:\\Users\\ASUS\\AppData\\Local\\Temp\\ipykernel_7608\\2112068825.py\"\u001b[1;36m, line \u001b[1;32m14\u001b[0m\n\u001b[1;33m    def _create_dir_return_path(self):\u001b[0m\n\u001b[1;37m                                      ^\u001b[0m\n\u001b[1;31mSyntaxError\u001b[0m\u001b[1;31m:\u001b[0m unexpected EOF while parsing\n"
     ]
    }
   ],
   "source": [
    "import os\n",
    "import matplotlib.pyplot as plt\n",
    "import pandas as pd\n",
    "import numpy as np\n",
    "import seaborn as sns\n",
    "import joblib\n",
    "from matplotlib.colors import ListedColormap\n",
    "\n",
    "plt.style.use(\"fivethirtyeight\") ## << optional step"
   ]
  },
  {
   "cell_type": "code",
   "execution_count": 1,
   "id": "8578b749",
   "metadata": {},
   "outputs": [],
   "source": [
    "class Perceptron:\n",
    "    def __init__(self, eta: float=None, epochs: int=None):\n",
    "        self.weights = np.random.randn(3) * 1e-4 # small random weights\n",
    "        training = (eta is not None) and (epochs is not None)\n",
    "        if training:\n",
    "            print(f\"initial weights before training: \\n{self.weights}\\n\")\n",
    "        self.eta = eta\n",
    "        self.epochs = epochs\n",
    "    \n",
    "    def _z_outcome(self, inputs, weights):\n",
    "        return np.dot(inputs, weights)\n",
    "    \n",
    "    def activation_function(self, z):\n",
    "        return np.where(z > 0, 1, 0)\n",
    "    \n",
    "    def fit(self, X, y):\n",
    "        self.X = X\n",
    "        self.y = y\n",
    "        \n",
    "        X_with_bias = np.c_[self.X, -np.ones((len(self.X), 1))]\n",
    "        print(f\"X with bias: \\n{X_with_bias}\")\n",
    "        \n",
    "        for epoch in range(self.epochs):\n",
    "            print(\"--\"*10)\n",
    "            print(f\"for epoch >> {epoch}\")\n",
    "            print(\"--\"*10)\n",
    "            \n",
    "            z = self._z_outcome(X_with_bias, self.weights)\n",
    "            y_hat = self.activation_function(z)\n",
    "            print(f\"predicted value after forward pass: \\n{y_hat}\")\n",
    "            \n",
    "            self.error = self.y - y_hat\n",
    "            print(f\"error: \\n{self.error}\")\n",
    "            \n",
    "            self.weights = self.weights + self.eta * np.dot(X_with_bias.T, self.error)\n",
    "            print(f\"updated weights after epoch: {epoch + 1}/{self.epochs}: \\n{self.weights}\")\n",
    "            print(\"##\"*10)"
   ]
  },
  {
   "cell_type": "code",
   "execution_count": null,
   "id": "9731e5a9",
   "metadata": {},
   "outputs": [],
   "source": [
    "def predict(self, X):\n",
    "        X_with_bias = np.c_[X, -np.ones((len(X), 1))]\n",
    "        z = self._z_outcome(X_with_bias, self.weights)\n",
    "        return self.activation_function(z)\n",
    "    \n",
    "def total_loss(self):\n",
    "        total_loss = np.sum(self.error)\n",
    "        print(f\"\\ntotal loss: {total_loss}\\n\")\n",
    "        return total_loss\n",
    "    \n",
    "def _create_dir_return_path(self, model_dir, filename):\n",
    "        os.makedirs(model_dir, exist_ok=True)\n",
    "        return os.path.join(model_dir, filename)\n",
    "    \n",
    "def save(self, filename, model_dir=None):\n",
    "        if model_dir is not None:\n",
    "            model_file_path = self._create_dir_return_path(model_dir, filename)\n",
    "            joblib.dump(self, model_file_path)\n",
    "        else:\n",
    "            model_file_path = self._create_dir_return_path(\"model\", filename)\n",
    "            joblib.dump(self, model_file_path)\n",
    "    \n",
    "def load(self, filepath):\n",
    "        return joblib.load(filepath)"
   ]
  },
  {
   "cell_type": "code",
   "execution_count": null,
   "id": "e14c3a66",
   "metadata": {},
   "outputs": [],
   "source": [
    "def prepare_data(df, target_col=\"y\"):\n",
    "    X = df.drop(target_col, axis=1)\n",
    "    \n",
    "    y = df[target_col]\n",
    "    \n",
    "    return X, y "
   ]
  },
  {
   "cell_type": "code",
   "execution_count": null,
   "id": "1ea381f3",
   "metadata": {},
   "outputs": [],
   "source": [
    "AND = {\n",
    "    \"x1\": [0,0,1,1],\n",
    "    \"x2\": [0,1,0,1],\n",
    "    \"y\" : [0,0,0,1]\n",
    "}\n",
    "\n",
    "df_AND = pd.DataFrame(AND)\n",
    "\n",
    "df_AND"
   ]
  },
  {
   "cell_type": "code",
   "execution_count": null,
   "id": "3baa494a",
   "metadata": {},
   "outputs": [],
   "source": [
    "X, y = prepare_data(df_AND)\n",
    "\n",
    "ETA = 0.1 # 0 and 1\n",
    "EPOCHS = 10\n",
    "\n",
    "model_and = Perceptron(eta=ETA, epochs=EPOCHS)\n",
    "model_and.fit(X, y)\n",
    "\n",
    "_ = model_and.total_loss()"
   ]
  },
  {
   "cell_type": "code",
   "execution_count": null,
   "id": "e09f69ed",
   "metadata": {},
   "outputs": [],
   "source": [
    "model_and.save(filename=\"and.model\")"
   ]
  },
  {
   "cell_type": "code",
   "execution_count": null,
   "metadata": {},
   "outputs": [],
   "source": [
    "reload_model_and = Perceptron().load(filepath=\"model/and.model\")"
   ]
  },
  {
   "cell_type": "code",
   "execution_count": null,
   "id": "f243f190",
   "metadata": {},
   "outputs": [],
   "source": [
    "reload_model_and.predict(X=[[1,1]])"
   ]
  },
  {
   "cell_type": "code",
   "execution_count": null,
   "id": "ab36637a",
   "metadata": {},
   "outputs": [],
   "source": [
    "array([1])"
   ]
  },
  {
   "cell_type": "code",
   "execution_count": null,
   "id": "6d0323d3",
   "metadata": {},
   "outputs": [],
   "source": [
    "OR = {\n",
    "    \"x1\": [0,0,1,1],\n",
    "    \"x2\": [0,1,0,1],\n",
    "    \"y\" : [0,1,1,1]\n",
    "}\n",
    "\n",
    "df_OR = pd.DataFrame(OR)\n",
    "\n",
    "df_OR"
   ]
  },
  {
   "cell_type": "code",
   "execution_count": null,
   "id": "7982ee1f",
   "metadata": {},
   "outputs": [],
   "source": [
    "X, y = prepare_data(df_OR)\n",
    "\n",
    "ETA = 0.1 # 0 and 1\n",
    "EPOCHS = 10\n",
    "\n",
    "model_or = Perceptron(eta=ETA, epochs=EPOCHS)\n",
    "model_or.fit(X, y)\n",
    "\n",
    "_ = model_or.total_loss()"
   ]
  },
  {
   "cell_type": "code",
   "execution_count": null,
   "id": "2b9f3d44",
   "metadata": {},
   "outputs": [],
   "source": [
    "model_or.save(filename=\"or.model\", model_dir=\"model_or\")"
   ]
  },
  {
   "cell_type": "code",
   "execution_count": null,
   "id": "1b213bad",
   "metadata": {},
   "outputs": [],
   "source": [
    "XOR = {\n",
    "    \"x1\": [0,0,1,1],\n",
    "    \"x2\": [0,1,0,1],\n",
    "    \"y\" : [0,1,1,0]\n",
    "}\n",
    "\n",
    "df_XOR = pd.DataFrame(XOR)\n",
    "\n",
    "df_XOR\n"
   ]
  },
  {
   "cell_type": "code",
   "execution_count": null,
   "id": "fac19250",
   "metadata": {},
   "outputs": [],
   "source": [
    "X, y = prepare_data(df_XOR)\n",
    "\n",
    "ETA = 0.1 # 0 and 1\n",
    "EPOCHS = 10\n",
    "\n",
    "model_xor = Perceptron(eta=ETA, epochs=EPOCHS)\n",
    "model_xor.fit(X, y)\n",
    "\n",
    "_ = model_xor.total_loss()"
   ]
  },
  {
   "cell_type": "code",
   "execution_count": null,
   "id": "f1bd35df",
   "metadata": {},
   "outputs": [],
   "source": [
    "def save_plot(df, model, filename=\"plot.png\", plot_dir=\"plots\"):\n",
    "    def _create_base_plot(df):\n",
    "        df.plot(kind=\"scatter\", x=\"x1\", y=\"x2\", c=\"y\", s=100, cmap=\"coolwarm\")\n",
    "        plt.axhline(y=0, color=\"black\", linestyle=\"--\", linewidth=1)\n",
    "        plt.axvline(x=0, color=\"black\", linestyle=\"--\", linewidth=1)\n",
    "        \n",
    "        figure = plt.gcf()\n",
    "        figure.set_size_inches(10, 8)\n",
    "    \n",
    "    def _plot_decision_regions(X, y, classifier, resolution=0.02):\n",
    "        colors = (\"cyan\", \"lightgreen\")\n",
    "        cmap = ListedColormap(colors)\n",
    "        \n",
    "        X = X.values # as an array\n",
    "        x1 = X[:, 0]\n",
    "        x2 = X[:, 1]\n",
    "        \n",
    "        x1_min, x1_max = x1.min() - 1, x1.max() + 1 \n",
    "        x2_min, x2_max = x2.min() - 1, x2.max() + 1\n",
    "        \n",
    "        xx1, xx2 = np.meshgrid(np.arange(x1_min, x1_max, resolution),\n",
    "                               np.arange(x2_min, x2_max, resolution)\n",
    "                              )\n",
    "        y_hat = classifier.predict(np.array([xx1.ravel(), xx2.ravel()]).T)\n",
    "        y_hat = y_hat.reshape(xx1.shape)\n",
    "        \n",
    "        plt.contourf(xx1, xx2, y_hat, alpha=0.3, cmap=cmap)\n",
    "        plt.xlim(xx1.min(), xx1.max())\n",
    "        plt.ylim(xx2.min(), xx2.max())\n",
    "        \n",
    "        plt.plot()\n",
    "        \n",
    "    X, y = prepare_data(df)\n",
    "    \n",
    "    _create_base_plot(df)\n",
    "    _plot_decision_regions(X, y, model)\n",
    "    \n",
    "    os.makedirs(plot_dir, exist_ok=True)\n",
    "    plot_path = os.path.join(plot_dir, filename)\n",
    "    plt.savefig(plot_path)"
   ]
  },
  {
   "cell_type": "code",
   "execution_count": null,
   "id": "ead771f2",
   "metadata": {},
   "outputs": [],
   "source": [
    "save_plot(df_OR, model_or, filename=\"or.png\")"
   ]
  },
  {
   "cell_type": "code",
   "execution_count": null,
   "id": "00217d04",
   "metadata": {},
   "outputs": [],
   "source": [
    "save_plot(df_AND, model_and, filename=\"and.png\")"
   ]
  },
  {
   "cell_type": "code",
   "execution_count": null,
   "id": "19631c40",
   "metadata": {},
   "outputs": [],
   "source": [
    "save_plot(df_XOR, model_xor, filename=\"xor.png\")"
   ]
  }
 ],
 "metadata": {
  "kernelspec": {
   "display_name": "Python 3.6.3rc1 64-bit",
   "language": "python",
   "name": "python3"
  },
  "language_info": {
   "codemirror_mode": {
    "name": "ipython",
    "version": 3
   },
   "file_extension": ".py",
   "mimetype": "text/x-python",
   "name": "python",
   "nbconvert_exporter": "python",
   "pygments_lexer": "ipython3",
   "version": "3.6.3rc1"
  },
  "vscode": {
   "interpreter": {
    "hash": "f068c123df790d154386d2fa93d41bb04fd7c9903a6a51bfe3f6207bfad57351"
   }
  }
 },
 "nbformat": 4,
 "nbformat_minor": 5
}
